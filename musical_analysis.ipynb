{
 "cells": [
  {
   "cell_type": "code",
   "execution_count": 86,
   "id": "5384b1bb-c298-4357-bec7-641c18272ba5",
   "metadata": {},
   "outputs": [],
   "source": [
    "import pandas as pd\n",
    "import numpy as np\n",
    "import matplotlib.pyplot as plt\n",
    "import seaborn as sns\n",
    "import re"
   ]
  },
  {
   "cell_type": "markdown",
   "id": "52c9ef7b-dadd-4132-ac7f-4b3866b9b34b",
   "metadata": {},
   "source": [
    "# Musical Analysis: Project 7"
   ]
  },
  {
   "cell_type": "markdown",
   "id": "f7c1bafb-eb88-497d-9a41-1632dc3bbb89",
   "metadata": {},
   "source": [
    "## Import Data \n",
    "Get all the csv data and combine it into a single dataset.\n",
    "\n",
    "Column names:\n",
    "- ID = unique id number\n",
    "- title = song’s title\n",
    "- artist = song’s artist\n",
    "- top genre = the genre of the track\n",
    "- year = song’s year in the billboard\n",
    "- bpm = beats per minute (tempo)\n",
    "- nrgy = energy, the higher the value the more energetic the song\n",
    "- dnce = danceability, the higher the value the easier it is to dance to\n",
    "- db = loudness, the higher the value the louder the song\n",
    "- live = the higher the value the more likely the song is a live recording\n",
    "- val = valence, the higher the value the more positive the mood\n",
    "- dur = duration of the song\n",
    "- acous = acousticness, the higher the value the more acoustic the song is\n",
    "- spch = speechiness, the higher the value the more spoken word the song contains\n",
    "- pop = popularity, the higher the value the more popular the song is"
   ]
  },
  {
   "cell_type": "code",
   "execution_count": 4,
   "id": "154e92a0-ed5a-4c2b-8179-a86988fb9bb5",
   "metadata": {},
   "outputs": [],
   "source": [
    "# Open and Read data from all CSVs\n",
    "spot2010 = pd.read_csv('data/2010.csv', index_col=0)\n",
    "spot2011 = pd.read_csv('data/2011.csv', index_col=0)\n",
    "spot2012 = pd.read_csv('data/2012.csv', index_col=0)\n",
    "spot2013 = pd.read_csv('data/2013.csv', index_col=0)\n",
    "spot2014 = pd.read_csv('data/2014.csv', index_col=0)\n",
    "spot2015 = pd.read_csv('data/2015.csv', index_col=0)\n",
    "spot2016 = pd.read_csv('data/2016.csv', index_col=0)\n",
    "spot2017 = pd.read_csv('data/2017.csv', index_col=0)\n",
    "spot2018 = pd.read_csv('data/2018.csv', index_col=0)\n",
    "spot2019 = pd.read_csv('data/2019.csv', index_col=0)"
   ]
  },
  {
   "cell_type": "code",
   "execution_count": 6,
   "id": "2a43cbb3-5069-4417-a9eb-a08b01a87253",
   "metadata": {},
   "outputs": [
    {
     "data": {
      "text/html": [
       "<div>\n",
       "<style scoped>\n",
       "    .dataframe tbody tr th:only-of-type {\n",
       "        vertical-align: middle;\n",
       "    }\n",
       "\n",
       "    .dataframe tbody tr th {\n",
       "        vertical-align: top;\n",
       "    }\n",
       "\n",
       "    .dataframe thead th {\n",
       "        text-align: right;\n",
       "    }\n",
       "</style>\n",
       "<table border=\"1\" class=\"dataframe\">\n",
       "  <thead>\n",
       "    <tr style=\"text-align: right;\">\n",
       "      <th></th>\n",
       "      <th>title</th>\n",
       "      <th>artist</th>\n",
       "      <th>top genre</th>\n",
       "      <th>year</th>\n",
       "      <th>bpm</th>\n",
       "      <th>nrgy</th>\n",
       "      <th>dnce</th>\n",
       "      <th>dB</th>\n",
       "      <th>live</th>\n",
       "      <th>val</th>\n",
       "      <th>dur</th>\n",
       "      <th>acous</th>\n",
       "      <th>spch</th>\n",
       "      <th>pop</th>\n",
       "    </tr>\n",
       "  </thead>\n",
       "  <tbody>\n",
       "    <tr>\n",
       "      <th>1</th>\n",
       "      <td>Hey, Soul Sister</td>\n",
       "      <td>Train</td>\n",
       "      <td>neo mellow</td>\n",
       "      <td>2010</td>\n",
       "      <td>97</td>\n",
       "      <td>89</td>\n",
       "      <td>67</td>\n",
       "      <td>-4</td>\n",
       "      <td>8</td>\n",
       "      <td>80</td>\n",
       "      <td>217</td>\n",
       "      <td>19</td>\n",
       "      <td>4</td>\n",
       "      <td>83</td>\n",
       "    </tr>\n",
       "    <tr>\n",
       "      <th>2</th>\n",
       "      <td>Love The Way You Lie</td>\n",
       "      <td>Eminem</td>\n",
       "      <td>detroit hip hop</td>\n",
       "      <td>2010</td>\n",
       "      <td>87</td>\n",
       "      <td>93</td>\n",
       "      <td>75</td>\n",
       "      <td>-5</td>\n",
       "      <td>52</td>\n",
       "      <td>64</td>\n",
       "      <td>263</td>\n",
       "      <td>24</td>\n",
       "      <td>23</td>\n",
       "      <td>82</td>\n",
       "    </tr>\n",
       "    <tr>\n",
       "      <th>3</th>\n",
       "      <td>TiK ToK</td>\n",
       "      <td>Kesha</td>\n",
       "      <td>dance pop</td>\n",
       "      <td>2010</td>\n",
       "      <td>120</td>\n",
       "      <td>84</td>\n",
       "      <td>76</td>\n",
       "      <td>-3</td>\n",
       "      <td>29</td>\n",
       "      <td>71</td>\n",
       "      <td>200</td>\n",
       "      <td>10</td>\n",
       "      <td>14</td>\n",
       "      <td>80</td>\n",
       "    </tr>\n",
       "    <tr>\n",
       "      <th>4</th>\n",
       "      <td>Bad Romance</td>\n",
       "      <td>Lady Gaga</td>\n",
       "      <td>dance pop</td>\n",
       "      <td>2010</td>\n",
       "      <td>119</td>\n",
       "      <td>92</td>\n",
       "      <td>70</td>\n",
       "      <td>-4</td>\n",
       "      <td>8</td>\n",
       "      <td>71</td>\n",
       "      <td>295</td>\n",
       "      <td>0</td>\n",
       "      <td>4</td>\n",
       "      <td>79</td>\n",
       "    </tr>\n",
       "    <tr>\n",
       "      <th>5</th>\n",
       "      <td>Just the Way You Are</td>\n",
       "      <td>Bruno Mars</td>\n",
       "      <td>pop</td>\n",
       "      <td>2010</td>\n",
       "      <td>109</td>\n",
       "      <td>84</td>\n",
       "      <td>64</td>\n",
       "      <td>-5</td>\n",
       "      <td>9</td>\n",
       "      <td>43</td>\n",
       "      <td>221</td>\n",
       "      <td>2</td>\n",
       "      <td>4</td>\n",
       "      <td>78</td>\n",
       "    </tr>\n",
       "  </tbody>\n",
       "</table>\n",
       "</div>"
      ],
      "text/plain": [
       "                  title      artist        top genre  year  bpm  nrgy  dnce  \\\n",
       "1      Hey, Soul Sister       Train       neo mellow  2010   97    89    67   \n",
       "2  Love The Way You Lie      Eminem  detroit hip hop  2010   87    93    75   \n",
       "3               TiK ToK       Kesha        dance pop  2010  120    84    76   \n",
       "4           Bad Romance   Lady Gaga        dance pop  2010  119    92    70   \n",
       "5  Just the Way You Are  Bruno Mars              pop  2010  109    84    64   \n",
       "\n",
       "   dB  live  val  dur  acous  spch  pop  \n",
       "1  -4     8   80  217     19     4   83  \n",
       "2  -5    52   64  263     24    23   82  \n",
       "3  -3    29   71  200     10    14   80  \n",
       "4  -4     8   71  295      0     4   79  \n",
       "5  -5     9   43  221      2     4   78  "
      ]
     },
     "execution_count": 6,
     "metadata": {},
     "output_type": "execute_result"
    }
   ],
   "source": [
    "# Combine all into a single dataframe\n",
    "years = [spot2010, spot2011, spot2012, spot2013, spot2014, spot2015, spot2016, spot2017, spot2018, spot2019]\n",
    "all_top_songs = pd.concat(years)\n",
    "all_top_songs.head()"
   ]
  },
  {
   "cell_type": "code",
   "execution_count": 8,
   "id": "4f85fd9f-6f69-412f-8c85-baa21dce4a54",
   "metadata": {},
   "outputs": [
    {
     "name": "stdout",
     "output_type": "stream",
     "text": [
      "<class 'pandas.core.frame.DataFrame'>\n",
      "Index: 603 entries, 1 to 603\n",
      "Data columns (total 14 columns):\n",
      " #   Column     Non-Null Count  Dtype \n",
      "---  ------     --------------  ----- \n",
      " 0   title      603 non-null    object\n",
      " 1   artist     603 non-null    object\n",
      " 2   top genre  603 non-null    object\n",
      " 3   year       603 non-null    int64 \n",
      " 4   bpm        603 non-null    int64 \n",
      " 5   nrgy       603 non-null    int64 \n",
      " 6   dnce       603 non-null    int64 \n",
      " 7   dB         603 non-null    int64 \n",
      " 8   live       603 non-null    int64 \n",
      " 9   val        603 non-null    int64 \n",
      " 10  dur        603 non-null    int64 \n",
      " 11  acous      603 non-null    int64 \n",
      " 12  spch       603 non-null    int64 \n",
      " 13  pop        603 non-null    int64 \n",
      "dtypes: int64(11), object(3)\n",
      "memory usage: 70.7+ KB\n"
     ]
    }
   ],
   "source": [
    "# Confirm all columns except 'title', 'artist', and 'top genre' are integers or floats\n",
    "all_top_songs.info()"
   ]
  },
  {
   "cell_type": "markdown",
   "id": "021563c5-e579-4327-af87-6a6678f43bb4",
   "metadata": {},
   "source": [
    "## Data Cleaning\n",
    "Check for whitespaces, nonsensical, formatting, etc."
   ]
  },
  {
   "cell_type": "code",
   "execution_count": 10,
   "id": "9db91042-3d9c-4e77-b8af-755adf94630d",
   "metadata": {},
   "outputs": [],
   "source": [
    "# Whitespace\n",
    "all_top_songs['title'] = all_top_songs['title'].str.strip()\n",
    "all_top_songs['artist'] = all_top_songs['artist'].str.strip()\n",
    "all_top_songs['top genre'] = all_top_songs['top genre'].str.strip()"
   ]
  },
  {
   "cell_type": "code",
   "execution_count": 12,
   "id": "0a1fa4dd-372b-4ea6-822d-5288549a9f11",
   "metadata": {},
   "outputs": [
    {
     "data": {
      "text/html": [
       "<div>\n",
       "<style scoped>\n",
       "    .dataframe tbody tr th:only-of-type {\n",
       "        vertical-align: middle;\n",
       "    }\n",
       "\n",
       "    .dataframe tbody tr th {\n",
       "        vertical-align: top;\n",
       "    }\n",
       "\n",
       "    .dataframe thead th {\n",
       "        text-align: right;\n",
       "    }\n",
       "</style>\n",
       "<table border=\"1\" class=\"dataframe\">\n",
       "  <thead>\n",
       "    <tr style=\"text-align: right;\">\n",
       "      <th></th>\n",
       "      <th>title</th>\n",
       "      <th>artist</th>\n",
       "      <th>top genre</th>\n",
       "      <th>year</th>\n",
       "      <th>bpm</th>\n",
       "      <th>nrgy</th>\n",
       "      <th>dnce</th>\n",
       "      <th>dB</th>\n",
       "      <th>live</th>\n",
       "      <th>val</th>\n",
       "      <th>dur</th>\n",
       "      <th>acous</th>\n",
       "      <th>spch</th>\n",
       "      <th>pop</th>\n",
       "    </tr>\n",
       "  </thead>\n",
       "  <tbody>\n",
       "  </tbody>\n",
       "</table>\n",
       "</div>"
      ],
      "text/plain": [
       "Empty DataFrame\n",
       "Columns: [title, artist, top genre, year, bpm, nrgy, dnce, dB, live, val, dur, acous, spch, pop]\n",
       "Index: []"
      ]
     },
     "execution_count": 12,
     "metadata": {},
     "output_type": "execute_result"
    }
   ],
   "source": [
    "# Missing Data\n",
    "all_top_songs[all_top_songs.isnull().any(axis=1)]"
   ]
  },
  {
   "cell_type": "markdown",
   "id": "b5c2a0e9-97c7-4107-a849-959fa00e2681",
   "metadata": {},
   "source": [
    "## Data Analysis \n",
    "Use Pandas, Matplotlib, and/or Seaborn to answer the questions."
   ]
  },
  {
   "cell_type": "markdown",
   "id": "30e4bd5c-1e53-45bf-ab65-886116318a82",
   "metadata": {},
   "source": [
    "### Question 1\n",
    "Most Popular Song in the Dataset?\n",
    "\n",
    "'Memories' by Maroon 5"
   ]
  },
  {
   "cell_type": "code",
   "execution_count": 14,
   "id": "c3abfb41-59c3-4310-871a-df0719c5ce9c",
   "metadata": {},
   "outputs": [
    {
     "data": {
      "text/plain": [
       "('Memories', 'Maroon 5')"
      ]
     },
     "execution_count": 14,
     "metadata": {},
     "output_type": "execute_result"
    }
   ],
   "source": [
    "# What is the most popular song in the dataset? highest value in pop col\n",
    "most_popular_song = all_top_songs.sort_values(by='pop', ascending=False).iloc[0]\n",
    "most_popular_song['title'], most_popular_song['artist']"
   ]
  },
  {
   "cell_type": "markdown",
   "id": "5f5480a5-2d16-4cac-94cc-a3c06f4b5200",
   "metadata": {},
   "source": [
    "### Question 2\n",
    "Artist with the most songs?\n",
    "\n",
    "Katy Perry"
   ]
  },
  {
   "cell_type": "code",
   "execution_count": 16,
   "id": "e7957454-52f7-4e83-ba4f-3e8a6d238c64",
   "metadata": {},
   "outputs": [
    {
     "data": {
      "text/html": [
       "<div>\n",
       "<style scoped>\n",
       "    .dataframe tbody tr th:only-of-type {\n",
       "        vertical-align: middle;\n",
       "    }\n",
       "\n",
       "    .dataframe tbody tr th {\n",
       "        vertical-align: top;\n",
       "    }\n",
       "\n",
       "    .dataframe thead th {\n",
       "        text-align: right;\n",
       "    }\n",
       "</style>\n",
       "<table border=\"1\" class=\"dataframe\">\n",
       "  <thead>\n",
       "    <tr style=\"text-align: right;\">\n",
       "      <th></th>\n",
       "      <th>artist</th>\n",
       "      <th>title</th>\n",
       "    </tr>\n",
       "  </thead>\n",
       "  <tbody>\n",
       "    <tr>\n",
       "      <th>86</th>\n",
       "      <td>Katy Perry</td>\n",
       "      <td>17</td>\n",
       "    </tr>\n",
       "    <tr>\n",
       "      <th>83</th>\n",
       "      <td>Justin Bieber</td>\n",
       "      <td>16</td>\n",
       "    </tr>\n",
       "    <tr>\n",
       "      <th>114</th>\n",
       "      <td>Maroon 5</td>\n",
       "      <td>15</td>\n",
       "    </tr>\n",
       "    <tr>\n",
       "      <th>145</th>\n",
       "      <td>Rihanna</td>\n",
       "      <td>15</td>\n",
       "    </tr>\n",
       "    <tr>\n",
       "      <th>94</th>\n",
       "      <td>Lady Gaga</td>\n",
       "      <td>14</td>\n",
       "    </tr>\n",
       "  </tbody>\n",
       "</table>\n",
       "</div>"
      ],
      "text/plain": [
       "            artist  title\n",
       "86      Katy Perry     17\n",
       "83   Justin Bieber     16\n",
       "114       Maroon 5     15\n",
       "145        Rihanna     15\n",
       "94       Lady Gaga     14"
      ]
     },
     "execution_count": 16,
     "metadata": {},
     "output_type": "execute_result"
    }
   ],
   "source": [
    "# What artist has the most songs in the dataset? group by artist and count\n",
    "songs_by_artist = all_top_songs.groupby(by='artist', as_index=False)['title'].count()\n",
    "songs_by_artist.sort_values('title', ascending=False).head()"
   ]
  },
  {
   "cell_type": "markdown",
   "id": "4f105423-ad05-40d1-a21a-834e429fed08",
   "metadata": {},
   "source": [
    "### Question 3\n",
    "Most popular genre in the dataset?\n",
    "\n",
    "Dance Pop: First, I grouped by genre and did a count of the number of songs in each genre. Next, I grouped by genre and totaled the popularity score of each genre. In both instances, Dance Pop came out on top, with the most songs and highest combined popularity score."
   ]
  },
  {
   "cell_type": "code",
   "execution_count": 72,
   "id": "637614dc-afc0-44ae-a7cb-f71688ca0377",
   "metadata": {},
   "outputs": [
    {
     "data": {
      "text/html": [
       "<div>\n",
       "<style scoped>\n",
       "    .dataframe tbody tr th:only-of-type {\n",
       "        vertical-align: middle;\n",
       "    }\n",
       "\n",
       "    .dataframe tbody tr th {\n",
       "        vertical-align: top;\n",
       "    }\n",
       "\n",
       "    .dataframe thead th {\n",
       "        text-align: right;\n",
       "    }\n",
       "</style>\n",
       "<table border=\"1\" class=\"dataframe\">\n",
       "  <thead>\n",
       "    <tr style=\"text-align: right;\">\n",
       "      <th></th>\n",
       "      <th>top genre</th>\n",
       "      <th>title</th>\n",
       "    </tr>\n",
       "  </thead>\n",
       "  <tbody>\n",
       "    <tr>\n",
       "      <th>25</th>\n",
       "      <td>dance pop</td>\n",
       "      <td>327</td>\n",
       "    </tr>\n",
       "    <tr>\n",
       "      <th>48</th>\n",
       "      <td>pop</td>\n",
       "      <td>60</td>\n",
       "    </tr>\n",
       "    <tr>\n",
       "      <th>18</th>\n",
       "      <td>canadian pop</td>\n",
       "      <td>34</td>\n",
       "    </tr>\n",
       "    <tr>\n",
       "      <th>12</th>\n",
       "      <td>boy band</td>\n",
       "      <td>15</td>\n",
       "    </tr>\n",
       "    <tr>\n",
       "      <th>8</th>\n",
       "      <td>barbadian pop</td>\n",
       "      <td>15</td>\n",
       "    </tr>\n",
       "  </tbody>\n",
       "</table>\n",
       "</div>"
      ],
      "text/plain": [
       "        top genre  title\n",
       "25      dance pop    327\n",
       "48            pop     60\n",
       "18   canadian pop     34\n",
       "12       boy band     15\n",
       "8   barbadian pop     15"
      ]
     },
     "execution_count": 72,
     "metadata": {},
     "output_type": "execute_result"
    }
   ],
   "source": [
    "# Most popular genre in the dataset? group by genre and count titles\n",
    "songs_by_genre = all_top_songs.groupby(by='top genre', as_index=False)['title'].count()\n",
    "songs_by_genre.sort_values('title', ascending=False).head()"
   ]
  },
  {
   "cell_type": "code",
   "execution_count": 74,
   "id": "626edb62-9570-4158-8f52-44afc207b626",
   "metadata": {},
   "outputs": [
    {
     "data": {
      "text/html": [
       "<div>\n",
       "<style scoped>\n",
       "    .dataframe tbody tr th:only-of-type {\n",
       "        vertical-align: middle;\n",
       "    }\n",
       "\n",
       "    .dataframe tbody tr th {\n",
       "        vertical-align: top;\n",
       "    }\n",
       "\n",
       "    .dataframe thead th {\n",
       "        text-align: right;\n",
       "    }\n",
       "</style>\n",
       "<table border=\"1\" class=\"dataframe\">\n",
       "  <thead>\n",
       "    <tr style=\"text-align: right;\">\n",
       "      <th></th>\n",
       "      <th>top genre</th>\n",
       "      <th>pop</th>\n",
       "    </tr>\n",
       "  </thead>\n",
       "  <tbody>\n",
       "    <tr>\n",
       "      <th>25</th>\n",
       "      <td>dance pop</td>\n",
       "      <td>21047</td>\n",
       "    </tr>\n",
       "    <tr>\n",
       "      <th>48</th>\n",
       "      <td>pop</td>\n",
       "      <td>4490</td>\n",
       "    </tr>\n",
       "    <tr>\n",
       "      <th>18</th>\n",
       "      <td>canadian pop</td>\n",
       "      <td>2456</td>\n",
       "    </tr>\n",
       "    <tr>\n",
       "      <th>12</th>\n",
       "      <td>boy band</td>\n",
       "      <td>1045</td>\n",
       "    </tr>\n",
       "    <tr>\n",
       "      <th>33</th>\n",
       "      <td>electropop</td>\n",
       "      <td>1007</td>\n",
       "    </tr>\n",
       "  </tbody>\n",
       "</table>\n",
       "</div>"
      ],
      "text/plain": [
       "       top genre    pop\n",
       "25     dance pop  21047\n",
       "48           pop   4490\n",
       "18  canadian pop   2456\n",
       "12      boy band   1045\n",
       "33    electropop   1007"
      ]
     },
     "execution_count": 74,
     "metadata": {},
     "output_type": "execute_result"
    }
   ],
   "source": [
    "# Most popular genre in the dataset? group by genre and sum pop\n",
    "total_pop_by_genre = all_top_songs.groupby(by='top genre', as_index=False)['pop'].sum()\n",
    "total_pop_by_genre.sort_values('pop', ascending=False).head()"
   ]
  },
  {
   "cell_type": "markdown",
   "id": "0295f871-ac0e-4e3c-9366-cf0403d74a90",
   "metadata": {},
   "source": [
    "### Question 4\n",
    "Songs in the dataset more than once?\n",
    "\n",
    "Yes: there are 19 songs listed more than once in the dataset. This was determined by finding the sum of duplicated titles."
   ]
  },
  {
   "cell_type": "code",
   "execution_count": 22,
   "id": "b53ccb9b-9967-47dd-888e-83ba0a5f20a0",
   "metadata": {},
   "outputs": [
    {
     "data": {
      "text/plain": [
       "np.int64(19)"
      ]
     },
     "execution_count": 22,
     "metadata": {},
     "output_type": "execute_result"
    }
   ],
   "source": [
    "# Are there any songs in the dataset more than once? \n",
    "all_top_songs.duplicated(subset=['title']).sum()"
   ]
  },
  {
   "cell_type": "code",
   "execution_count": 24,
   "id": "891f1f69-b8ab-4082-89c9-d06c3f0ebce1",
   "metadata": {},
   "outputs": [],
   "source": [
    "# Store list of songs that appear more than once\n",
    "repeat_titles = all_top_songs.loc[all_top_songs.duplicated(subset=['title'])]"
   ]
  },
  {
   "cell_type": "markdown",
   "id": "ff99e938-b05e-4e75-9c8a-a1507e3b665f",
   "metadata": {},
   "source": [
    "### Question 5\n",
    "Is there a relationship between popularity and danceability?\n",
    "\n",
    "No: there isn't really a correlation between song popularity and danceability. There are plenty of songs that are highly popular, but not high on the danceability scale. Additionally, there are songs that have a higher danceability that are not popular. \n",
    "\n",
    "This is best shown with a scattplot, as shown below."
   ]
  },
  {
   "cell_type": "code",
   "execution_count": 58,
   "id": "741198d8-c67d-4f0f-862b-f78f32507b86",
   "metadata": {},
   "outputs": [
    {
     "data": {
      "text/plain": [
       "Text(0, 0.5, 'Popularity')"
      ]
     },
     "execution_count": 58,
     "metadata": {},
     "output_type": "execute_result"
    },
    {
     "data": {
      "image/png": "[encoded data removed]",
      "text/plain": [
       "<Figure size 1400x600 with 1 Axes>"
      ]
     },
     "metadata": {},
     "output_type": "display_data"
    }
   ],
   "source": [
    "# Relationship between popularity and danceability\n",
    "plt.figure(figsize=(14,6))\n",
    "sns.scatterplot(data=all_top_songs, x='dnce', y='pop')\n",
    "plt.title('Top Songs: Danceability vs. Popularity')\n",
    "plt.xlabel('Danceability')\n",
    "plt.ylabel('Popularity')"
   ]
  },
  {
   "cell_type": "markdown",
   "id": "29ea97b4-22d2-4290-b298-441b67740d4b",
   "metadata": {},
   "source": [
    "### Question 6\n",
    "Does higher bpm lead to a higher energy score?\n",
    "\n",
    "No: there isn't really a correlation between beats per minute (bpm) and energy. For songs between 100 and 200 bpm, their energy scores range anywhere from 20 to 95. Additionally, there are songs that have a higher danceability that are not popular. \n",
    "\n",
    "This is best shown with a scattplot, as shown below."
   ]
  },
  {
   "cell_type": "code",
   "execution_count": 56,
   "id": "e4134ed8-bf5f-43a6-8cd0-cf1600e62047",
   "metadata": {},
   "outputs": [
    {
     "data": {
      "text/plain": [
       "Text(0, 0.5, 'Energy Score')"
      ]
     },
     "execution_count": 56,
     "metadata": {},
     "output_type": "execute_result"
    },
    {
     "data": {
      "image/png": "[encoded data removed]",
      "text/plain": [
       "<Figure size 1600x600 with 1 Axes>"
      ]
     },
     "metadata": {},
     "output_type": "display_data"
    }
   ],
   "source": [
    "plt.figure(figsize=(16,6))\n",
    "sns.scatterplot(data=all_top_songs, x='bpm', y='nrgy')\n",
    "plt.title('Top Songs: Beats Per Minute vs. Energy Score')\n",
    "plt.xlabel('Beats Per Minute (BPM)')\n",
    "plt.ylabel('Energy Score')"
   ]
  },
  {
   "cell_type": "markdown",
   "id": "27b982b1-fcff-42e8-a0d2-d78db172aa23",
   "metadata": {},
   "source": [
    "### Question 7\n",
    "Genre with the highest energy score?\n",
    "\n",
    "Boy Band and Big Room: When sorting all songs by energy score, descending, we see that the highest energy score is 98. There are two genres with an energy score of 98: boy band and big room."
   ]
  },
  {
   "cell_type": "code",
   "execution_count": 60,
   "id": "64e24246-2dfd-4780-9ea4-be69b0458dde",
   "metadata": {},
   "outputs": [
    {
     "data": {
      "text/html": [
       "<div>\n",
       "<style scoped>\n",
       "    .dataframe tbody tr th:only-of-type {\n",
       "        vertical-align: middle;\n",
       "    }\n",
       "\n",
       "    .dataframe tbody tr th {\n",
       "        vertical-align: top;\n",
       "    }\n",
       "\n",
       "    .dataframe thead th {\n",
       "        text-align: right;\n",
       "    }\n",
       "</style>\n",
       "<table border=\"1\" class=\"dataframe\">\n",
       "  <thead>\n",
       "    <tr style=\"text-align: right;\">\n",
       "      <th></th>\n",
       "      <th>title</th>\n",
       "      <th>artist</th>\n",
       "      <th>top genre</th>\n",
       "      <th>year</th>\n",
       "      <th>bpm</th>\n",
       "      <th>nrgy</th>\n",
       "      <th>dnce</th>\n",
       "      <th>dB</th>\n",
       "      <th>live</th>\n",
       "      <th>val</th>\n",
       "      <th>dur</th>\n",
       "      <th>acous</th>\n",
       "      <th>spch</th>\n",
       "      <th>pop</th>\n",
       "    </tr>\n",
       "  </thead>\n",
       "  <tbody>\n",
       "    <tr>\n",
       "      <th>199</th>\n",
       "      <td>Pom Poms</td>\n",
       "      <td>Jonas Brothers</td>\n",
       "      <td>boy band</td>\n",
       "      <td>2013</td>\n",
       "      <td>148</td>\n",
       "      <td>98</td>\n",
       "      <td>68</td>\n",
       "      <td>-2</td>\n",
       "      <td>28</td>\n",
       "      <td>90</td>\n",
       "      <td>198</td>\n",
       "      <td>7</td>\n",
       "      <td>9</td>\n",
       "      <td>52</td>\n",
       "    </tr>\n",
       "    <tr>\n",
       "      <th>51</th>\n",
       "      <td>Hello</td>\n",
       "      <td>Martin Solveig</td>\n",
       "      <td>big room</td>\n",
       "      <td>2010</td>\n",
       "      <td>128</td>\n",
       "      <td>98</td>\n",
       "      <td>67</td>\n",
       "      <td>-3</td>\n",
       "      <td>10</td>\n",
       "      <td>45</td>\n",
       "      <td>191</td>\n",
       "      <td>1</td>\n",
       "      <td>3</td>\n",
       "      <td>0</td>\n",
       "    </tr>\n",
       "    <tr>\n",
       "      <th>135</th>\n",
       "      <td>Don't Stop the Party (feat. TJR)</td>\n",
       "      <td>Pitbull</td>\n",
       "      <td>dance pop</td>\n",
       "      <td>2012</td>\n",
       "      <td>127</td>\n",
       "      <td>96</td>\n",
       "      <td>72</td>\n",
       "      <td>-4</td>\n",
       "      <td>38</td>\n",
       "      <td>95</td>\n",
       "      <td>206</td>\n",
       "      <td>1</td>\n",
       "      <td>9</td>\n",
       "      <td>59</td>\n",
       "    </tr>\n",
       "    <tr>\n",
       "      <th>182</th>\n",
       "      <td>Rock N Roll</td>\n",
       "      <td>Avril Lavigne</td>\n",
       "      <td>canadian pop</td>\n",
       "      <td>2013</td>\n",
       "      <td>184</td>\n",
       "      <td>96</td>\n",
       "      <td>47</td>\n",
       "      <td>-3</td>\n",
       "      <td>34</td>\n",
       "      <td>67</td>\n",
       "      <td>207</td>\n",
       "      <td>1</td>\n",
       "      <td>13</td>\n",
       "      <td>61</td>\n",
       "    </tr>\n",
       "    <tr>\n",
       "      <th>201</th>\n",
       "      <td>How Ya Doin'? (feat. Missy Elliott)</td>\n",
       "      <td>Little Mix</td>\n",
       "      <td>dance pop</td>\n",
       "      <td>2013</td>\n",
       "      <td>201</td>\n",
       "      <td>95</td>\n",
       "      <td>36</td>\n",
       "      <td>-3</td>\n",
       "      <td>37</td>\n",
       "      <td>51</td>\n",
       "      <td>211</td>\n",
       "      <td>9</td>\n",
       "      <td>48</td>\n",
       "      <td>50</td>\n",
       "    </tr>\n",
       "  </tbody>\n",
       "</table>\n",
       "</div>"
      ],
      "text/plain": [
       "                                   title          artist     top genre  year  \\\n",
       "199                             Pom Poms  Jonas Brothers      boy band  2013   \n",
       "51                                 Hello  Martin Solveig      big room  2010   \n",
       "135     Don't Stop the Party (feat. TJR)         Pitbull     dance pop  2012   \n",
       "182                          Rock N Roll   Avril Lavigne  canadian pop  2013   \n",
       "201  How Ya Doin'? (feat. Missy Elliott)      Little Mix     dance pop  2013   \n",
       "\n",
       "     bpm  nrgy  dnce  dB  live  val  dur  acous  spch  pop  \n",
       "199  148    98    68  -2    28   90  198      7     9   52  \n",
       "51   128    98    67  -3    10   45  191      1     3    0  \n",
       "135  127    96    72  -4    38   95  206      1     9   59  \n",
       "182  184    96    47  -3    34   67  207      1    13   61  \n",
       "201  201    95    36  -3    37   51  211      9    48   50  "
      ]
     },
     "execution_count": 60,
     "metadata": {},
     "output_type": "execute_result"
    }
   ],
   "source": [
    "all_top_songs.sort_values('nrgy', ascending=False).head()"
   ]
  },
  {
   "cell_type": "markdown",
   "id": "f9afbcd8-9fe5-4c5d-8405-6ed002aa8858",
   "metadata": {},
   "source": [
    "## Extra Credit"
   ]
  },
  {
   "cell_type": "code",
   "execution_count": 222,
   "id": "e848bb34-0e40-4684-b5ef-ebf8b9e605cd",
   "metadata": {},
   "outputs": [],
   "source": [
    "# Export the combined data into a csv called 'top_spotify_songs.csv'\n",
    "all_top_songs.to_csv('data/top_spotify_songs.csv')"
   ]
  },
  {
   "cell_type": "markdown",
   "id": "cf46903a-1f1b-4e26-ad45-9d878f79f7ef",
   "metadata": {},
   "source": [
    "### Question 1\n",
    "What percentage of songs may have been recorded live?\n",
    "_(consider anything above 50 in the live column to be recorded live)_\n",
    "\n",
    "2.99%\n",
    "\n",
    "To find the answer, I got the length of top_songs with live > 50 and divided that by the total number of songs."
   ]
  },
  {
   "cell_type": "code",
   "execution_count": 202,
   "id": "eededfbe-8465-4e40-9ce5-96a8ca69d19b",
   "metadata": {},
   "outputs": [
    {
     "data": {
      "text/plain": [
       "2.9850746268656714"
      ]
     },
     "execution_count": 202,
     "metadata": {},
     "output_type": "execute_result"
    }
   ],
   "source": [
    "# Find all songs with acoustic > 50 and count how many there are\n",
    "# Then divide by total number of songs in the dataset\n",
    "live_songs = len(all_top_songs[all_top_songs['live'] > 50])\n",
    "total_songs = len(all_top_songs)\n",
    "pct_live = live_songs/total_songs * 100\n",
    "pct_live"
   ]
  },
  {
   "cell_type": "markdown",
   "id": "7f032b3a-ac44-47e0-9be6-49154ec88a1e",
   "metadata": {},
   "source": [
    "### Question 2\n",
    "What percentage of songs were acoustic? _(consider anything above 50 in the acoustic column to be acoustic)_\n",
    "\n",
    "7.30%\n",
    "\n",
    "To find the answer, I got the length of top_songs with acoustic > 50 and divided that by the total number of songs."
   ]
  },
  {
   "cell_type": "code",
   "execution_count": 210,
   "id": "742d9476-798d-4581-833c-100bc7d263b7",
   "metadata": {},
   "outputs": [
    {
     "data": {
      "text/plain": [
       "7.2968490878938645"
      ]
     },
     "execution_count": 210,
     "metadata": {},
     "output_type": "execute_result"
    }
   ],
   "source": [
    "acoustic_songs = len(all_top_songs[all_top_songs['acous'] > 50])\n",
    "pct_acoustic = acoustic_songs/total_songs * 100\n",
    "pct_acoustic"
   ]
  },
  {
   "cell_type": "markdown",
   "id": "5b5d2411-03e2-4dde-8854-61f80031839f",
   "metadata": {},
   "source": [
    "### Question 3\n",
    "Which year's songs have the highest amount of spoken word in the song?\n",
    "\n",
    "2015\n",
    "\n",
    "I found this by grouping all songs by year, then totaling the speech score for each year. I sorted by spch descending, which gave me the highest speechiness first."
   ]
  },
  {
   "cell_type": "code",
   "execution_count": 217,
   "id": "33470211-8ff9-407c-a289-c7985a21ca5c",
   "metadata": {},
   "outputs": [
    {
     "data": {
      "text/html": [
       "<div>\n",
       "<style scoped>\n",
       "    .dataframe tbody tr th:only-of-type {\n",
       "        vertical-align: middle;\n",
       "    }\n",
       "\n",
       "    .dataframe tbody tr th {\n",
       "        vertical-align: top;\n",
       "    }\n",
       "\n",
       "    .dataframe thead th {\n",
       "        text-align: right;\n",
       "    }\n",
       "</style>\n",
       "<table border=\"1\" class=\"dataframe\">\n",
       "  <thead>\n",
       "    <tr style=\"text-align: right;\">\n",
       "      <th></th>\n",
       "      <th>year</th>\n",
       "      <th>spch</th>\n",
       "    </tr>\n",
       "  </thead>\n",
       "  <tbody>\n",
       "    <tr>\n",
       "      <th>5</th>\n",
       "      <td>2015</td>\n",
       "      <td>670</td>\n",
       "    </tr>\n",
       "    <tr>\n",
       "      <th>6</th>\n",
       "      <td>2016</td>\n",
       "      <td>669</td>\n",
       "    </tr>\n",
       "    <tr>\n",
       "      <th>7</th>\n",
       "      <td>2017</td>\n",
       "      <td>636</td>\n",
       "    </tr>\n",
       "    <tr>\n",
       "      <th>3</th>\n",
       "      <td>2013</td>\n",
       "      <td>590</td>\n",
       "    </tr>\n",
       "    <tr>\n",
       "      <th>8</th>\n",
       "      <td>2018</td>\n",
       "      <td>552</td>\n",
       "    </tr>\n",
       "  </tbody>\n",
       "</table>\n",
       "</div>"
      ],
      "text/plain": [
       "   year  spch\n",
       "5  2015   670\n",
       "6  2016   669\n",
       "7  2017   636\n",
       "3  2013   590\n",
       "8  2018   552"
      ]
     },
     "execution_count": 217,
     "metadata": {},
     "output_type": "execute_result"
    }
   ],
   "source": [
    "# Group by year and sum spch for each\n",
    "spch_by_year = all_top_songs.groupby(by='year', as_index=False)['spch'].sum()\n",
    "spch_by_year.sort_values('spch', ascending=False).head()"
   ]
  }
 ],
 "metadata": {
  "kernelspec": {
   "display_name": "Python [conda env:th-pandas]",
   "language": "python",
   "name": "conda-env-th-pandas-py"
  },
  "language_info": {
   "codemirror_mode": {
    "name": "ipython",
    "version": 3
   },
   "file_extension": ".py",
   "mimetype": "text/x-python",
   "name": "python",
   "nbconvert_exporter": "python",
   "pygments_lexer": "ipython3",
   "version": "3.12.9"
  }
 },
 "nbformat": 4,
 "nbformat_minor": 5
}
